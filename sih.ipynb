{
  "nbformat": 4,
  "nbformat_minor": 0,
  "metadata": {
    "colab": {
      "provenance": []
    },
    "kernelspec": {
      "name": "python3",
      "display_name": "Python 3"
    },
    "language_info": {
      "name": "python"
    }
  },
  "cells": [
    {
      "cell_type": "code",
      "source": [
        "import pandas as pd\n"
      ],
      "metadata": {
        "id": "DtXPK5brW1rM"
      },
      "execution_count": 4,
      "outputs": []
    },
    {
      "cell_type": "code",
      "source": [
        "import pandas as pd\n",
        "\n",
        "# replace with your uploaded filename\n",
        "df = pd.read_excel(\"/content/CDC colleges.xlsx\")\n",
        "\n",
        "# show first rows\n",
        "df.head()\n"
      ],
      "metadata": {
        "colab": {
          "base_uri": "https://localhost:8080/",
          "height": 379
        },
        "id": "U7VinCiBW4AX",
        "outputId": "b348faaf-2e47-49a2-cbdd-e4bfe741ff12"
      },
      "execution_count": 7,
      "outputs": [
        {
          "output_type": "execute_result",
          "data": {
            "text/plain": [
              "  LIST OF GOVERNMENT COLLEGES AFFILIATED TO THE UNIVERSITY OF JAMMU  \\\n",
              "0                                              SN\\no                  \n",
              "1                                                  A                  \n",
              "2                                                  1                  \n",
              "3                                                  2                  \n",
              "4                                                  3                  \n",
              "\n",
              "                                          Unnamed: 1       Unnamed: 2  \\\n",
              "0                                Name of the College  Year of\\nEstab.   \n",
              "1                                Degree Colleges(65)              NaN   \n",
              "2  Shri  Krishan  Chander  Govt.  Degree  College...             1955   \n",
              "3                    Govt. Degree College, Bhaderwah             1955   \n",
              "4                       Govt. Degree College, Kathua             1961   \n",
              "\n",
              "                                      Unnamed: 3  \\\n",
              "0                           Basic Course Offered   \n",
              "1                                            NaN   \n",
              "2                        Arts, Science, Commerce   \n",
              "3                        Arts, Science, Commerce   \n",
              "4  Arts,  Science,  Commerce, B.Sc. Home Science   \n",
              "\n",
              "                                          Unnamed: 4  \n",
              "0  Other Courses run by the college with year of\\...  \n",
              "1                                                NaN  \n",
              "2                                          BCA(2004)  \n",
              "3              BCA(2002)\\nPG in Chemistry PG in Urdu  \n",
              "4               BCA(2002) BBA(2008)\\nPG in Geography  "
            ],
            "text/html": [
              "\n",
              "  <div id=\"df-4ed42b1f-e756-4134-9dc6-118c3cf0fcb1\" class=\"colab-df-container\">\n",
              "    <div>\n",
              "<style scoped>\n",
              "    .dataframe tbody tr th:only-of-type {\n",
              "        vertical-align: middle;\n",
              "    }\n",
              "\n",
              "    .dataframe tbody tr th {\n",
              "        vertical-align: top;\n",
              "    }\n",
              "\n",
              "    .dataframe thead th {\n",
              "        text-align: right;\n",
              "    }\n",
              "</style>\n",
              "<table border=\"1\" class=\"dataframe\">\n",
              "  <thead>\n",
              "    <tr style=\"text-align: right;\">\n",
              "      <th></th>\n",
              "      <th>LIST OF GOVERNMENT COLLEGES AFFILIATED TO THE UNIVERSITY OF JAMMU</th>\n",
              "      <th>Unnamed: 1</th>\n",
              "      <th>Unnamed: 2</th>\n",
              "      <th>Unnamed: 3</th>\n",
              "      <th>Unnamed: 4</th>\n",
              "    </tr>\n",
              "  </thead>\n",
              "  <tbody>\n",
              "    <tr>\n",
              "      <th>0</th>\n",
              "      <td>SN\\no</td>\n",
              "      <td>Name of the College</td>\n",
              "      <td>Year of\\nEstab.</td>\n",
              "      <td>Basic Course Offered</td>\n",
              "      <td>Other Courses run by the college with year of\\...</td>\n",
              "    </tr>\n",
              "    <tr>\n",
              "      <th>1</th>\n",
              "      <td>A</td>\n",
              "      <td>Degree Colleges(65)</td>\n",
              "      <td>NaN</td>\n",
              "      <td>NaN</td>\n",
              "      <td>NaN</td>\n",
              "    </tr>\n",
              "    <tr>\n",
              "      <th>2</th>\n",
              "      <td>1</td>\n",
              "      <td>Shri  Krishan  Chander  Govt.  Degree  College...</td>\n",
              "      <td>1955</td>\n",
              "      <td>Arts, Science, Commerce</td>\n",
              "      <td>BCA(2004)</td>\n",
              "    </tr>\n",
              "    <tr>\n",
              "      <th>3</th>\n",
              "      <td>2</td>\n",
              "      <td>Govt. Degree College, Bhaderwah</td>\n",
              "      <td>1955</td>\n",
              "      <td>Arts, Science, Commerce</td>\n",
              "      <td>BCA(2002)\\nPG in Chemistry PG in Urdu</td>\n",
              "    </tr>\n",
              "    <tr>\n",
              "      <th>4</th>\n",
              "      <td>3</td>\n",
              "      <td>Govt. Degree College, Kathua</td>\n",
              "      <td>1961</td>\n",
              "      <td>Arts,  Science,  Commerce, B.Sc. Home Science</td>\n",
              "      <td>BCA(2002) BBA(2008)\\nPG in Geography</td>\n",
              "    </tr>\n",
              "  </tbody>\n",
              "</table>\n",
              "</div>\n",
              "    <div class=\"colab-df-buttons\">\n",
              "\n",
              "  <div class=\"colab-df-container\">\n",
              "    <button class=\"colab-df-convert\" onclick=\"convertToInteractive('df-4ed42b1f-e756-4134-9dc6-118c3cf0fcb1')\"\n",
              "            title=\"Convert this dataframe to an interactive table.\"\n",
              "            style=\"display:none;\">\n",
              "\n",
              "  <svg xmlns=\"http://www.w3.org/2000/svg\" height=\"24px\" viewBox=\"0 -960 960 960\">\n",
              "    <path d=\"M120-120v-720h720v720H120Zm60-500h600v-160H180v160Zm220 220h160v-160H400v160Zm0 220h160v-160H400v160ZM180-400h160v-160H180v160Zm440 0h160v-160H620v160ZM180-180h160v-160H180v160Zm440 0h160v-160H620v160Z\"/>\n",
              "  </svg>\n",
              "    </button>\n",
              "\n",
              "  <style>\n",
              "    .colab-df-container {\n",
              "      display:flex;\n",
              "      gap: 12px;\n",
              "    }\n",
              "\n",
              "    .colab-df-convert {\n",
              "      background-color: #E8F0FE;\n",
              "      border: none;\n",
              "      border-radius: 50%;\n",
              "      cursor: pointer;\n",
              "      display: none;\n",
              "      fill: #1967D2;\n",
              "      height: 32px;\n",
              "      padding: 0 0 0 0;\n",
              "      width: 32px;\n",
              "    }\n",
              "\n",
              "    .colab-df-convert:hover {\n",
              "      background-color: #E2EBFA;\n",
              "      box-shadow: 0px 1px 2px rgba(60, 64, 67, 0.3), 0px 1px 3px 1px rgba(60, 64, 67, 0.15);\n",
              "      fill: #174EA6;\n",
              "    }\n",
              "\n",
              "    .colab-df-buttons div {\n",
              "      margin-bottom: 4px;\n",
              "    }\n",
              "\n",
              "    [theme=dark] .colab-df-convert {\n",
              "      background-color: #3B4455;\n",
              "      fill: #D2E3FC;\n",
              "    }\n",
              "\n",
              "    [theme=dark] .colab-df-convert:hover {\n",
              "      background-color: #434B5C;\n",
              "      box-shadow: 0px 1px 3px 1px rgba(0, 0, 0, 0.15);\n",
              "      filter: drop-shadow(0px 1px 2px rgba(0, 0, 0, 0.3));\n",
              "      fill: #FFFFFF;\n",
              "    }\n",
              "  </style>\n",
              "\n",
              "    <script>\n",
              "      const buttonEl =\n",
              "        document.querySelector('#df-4ed42b1f-e756-4134-9dc6-118c3cf0fcb1 button.colab-df-convert');\n",
              "      buttonEl.style.display =\n",
              "        google.colab.kernel.accessAllowed ? 'block' : 'none';\n",
              "\n",
              "      async function convertToInteractive(key) {\n",
              "        const element = document.querySelector('#df-4ed42b1f-e756-4134-9dc6-118c3cf0fcb1');\n",
              "        const dataTable =\n",
              "          await google.colab.kernel.invokeFunction('convertToInteractive',\n",
              "                                                    [key], {});\n",
              "        if (!dataTable) return;\n",
              "\n",
              "        const docLinkHtml = 'Like what you see? Visit the ' +\n",
              "          '<a target=\"_blank\" href=https://colab.research.google.com/notebooks/data_table.ipynb>data table notebook</a>'\n",
              "          + ' to learn more about interactive tables.';\n",
              "        element.innerHTML = '';\n",
              "        dataTable['output_type'] = 'display_data';\n",
              "        await google.colab.output.renderOutput(dataTable, element);\n",
              "        const docLink = document.createElement('div');\n",
              "        docLink.innerHTML = docLinkHtml;\n",
              "        element.appendChild(docLink);\n",
              "      }\n",
              "    </script>\n",
              "  </div>\n",
              "\n",
              "\n",
              "    <div id=\"df-4a4c784f-50fb-4522-83bd-92eb63e87f41\">\n",
              "      <button class=\"colab-df-quickchart\" onclick=\"quickchart('df-4a4c784f-50fb-4522-83bd-92eb63e87f41')\"\n",
              "                title=\"Suggest charts\"\n",
              "                style=\"display:none;\">\n",
              "\n",
              "<svg xmlns=\"http://www.w3.org/2000/svg\" height=\"24px\"viewBox=\"0 0 24 24\"\n",
              "     width=\"24px\">\n",
              "    <g>\n",
              "        <path d=\"M19 3H5c-1.1 0-2 .9-2 2v14c0 1.1.9 2 2 2h14c1.1 0 2-.9 2-2V5c0-1.1-.9-2-2-2zM9 17H7v-7h2v7zm4 0h-2V7h2v10zm4 0h-2v-4h2v4z\"/>\n",
              "    </g>\n",
              "</svg>\n",
              "      </button>\n",
              "\n",
              "<style>\n",
              "  .colab-df-quickchart {\n",
              "      --bg-color: #E8F0FE;\n",
              "      --fill-color: #1967D2;\n",
              "      --hover-bg-color: #E2EBFA;\n",
              "      --hover-fill-color: #174EA6;\n",
              "      --disabled-fill-color: #AAA;\n",
              "      --disabled-bg-color: #DDD;\n",
              "  }\n",
              "\n",
              "  [theme=dark] .colab-df-quickchart {\n",
              "      --bg-color: #3B4455;\n",
              "      --fill-color: #D2E3FC;\n",
              "      --hover-bg-color: #434B5C;\n",
              "      --hover-fill-color: #FFFFFF;\n",
              "      --disabled-bg-color: #3B4455;\n",
              "      --disabled-fill-color: #666;\n",
              "  }\n",
              "\n",
              "  .colab-df-quickchart {\n",
              "    background-color: var(--bg-color);\n",
              "    border: none;\n",
              "    border-radius: 50%;\n",
              "    cursor: pointer;\n",
              "    display: none;\n",
              "    fill: var(--fill-color);\n",
              "    height: 32px;\n",
              "    padding: 0;\n",
              "    width: 32px;\n",
              "  }\n",
              "\n",
              "  .colab-df-quickchart:hover {\n",
              "    background-color: var(--hover-bg-color);\n",
              "    box-shadow: 0 1px 2px rgba(60, 64, 67, 0.3), 0 1px 3px 1px rgba(60, 64, 67, 0.15);\n",
              "    fill: var(--button-hover-fill-color);\n",
              "  }\n",
              "\n",
              "  .colab-df-quickchart-complete:disabled,\n",
              "  .colab-df-quickchart-complete:disabled:hover {\n",
              "    background-color: var(--disabled-bg-color);\n",
              "    fill: var(--disabled-fill-color);\n",
              "    box-shadow: none;\n",
              "  }\n",
              "\n",
              "  .colab-df-spinner {\n",
              "    border: 2px solid var(--fill-color);\n",
              "    border-color: transparent;\n",
              "    border-bottom-color: var(--fill-color);\n",
              "    animation:\n",
              "      spin 1s steps(1) infinite;\n",
              "  }\n",
              "\n",
              "  @keyframes spin {\n",
              "    0% {\n",
              "      border-color: transparent;\n",
              "      border-bottom-color: var(--fill-color);\n",
              "      border-left-color: var(--fill-color);\n",
              "    }\n",
              "    20% {\n",
              "      border-color: transparent;\n",
              "      border-left-color: var(--fill-color);\n",
              "      border-top-color: var(--fill-color);\n",
              "    }\n",
              "    30% {\n",
              "      border-color: transparent;\n",
              "      border-left-color: var(--fill-color);\n",
              "      border-top-color: var(--fill-color);\n",
              "      border-right-color: var(--fill-color);\n",
              "    }\n",
              "    40% {\n",
              "      border-color: transparent;\n",
              "      border-right-color: var(--fill-color);\n",
              "      border-top-color: var(--fill-color);\n",
              "    }\n",
              "    60% {\n",
              "      border-color: transparent;\n",
              "      border-right-color: var(--fill-color);\n",
              "    }\n",
              "    80% {\n",
              "      border-color: transparent;\n",
              "      border-right-color: var(--fill-color);\n",
              "      border-bottom-color: var(--fill-color);\n",
              "    }\n",
              "    90% {\n",
              "      border-color: transparent;\n",
              "      border-bottom-color: var(--fill-color);\n",
              "    }\n",
              "  }\n",
              "</style>\n",
              "\n",
              "      <script>\n",
              "        async function quickchart(key) {\n",
              "          const quickchartButtonEl =\n",
              "            document.querySelector('#' + key + ' button');\n",
              "          quickchartButtonEl.disabled = true;  // To prevent multiple clicks.\n",
              "          quickchartButtonEl.classList.add('colab-df-spinner');\n",
              "          try {\n",
              "            const charts = await google.colab.kernel.invokeFunction(\n",
              "                'suggestCharts', [key], {});\n",
              "          } catch (error) {\n",
              "            console.error('Error during call to suggestCharts:', error);\n",
              "          }\n",
              "          quickchartButtonEl.classList.remove('colab-df-spinner');\n",
              "          quickchartButtonEl.classList.add('colab-df-quickchart-complete');\n",
              "        }\n",
              "        (() => {\n",
              "          let quickchartButtonEl =\n",
              "            document.querySelector('#df-4a4c784f-50fb-4522-83bd-92eb63e87f41 button');\n",
              "          quickchartButtonEl.style.display =\n",
              "            google.colab.kernel.accessAllowed ? 'block' : 'none';\n",
              "        })();\n",
              "      </script>\n",
              "    </div>\n",
              "\n",
              "    </div>\n",
              "  </div>\n"
            ],
            "application/vnd.google.colaboratory.intrinsic+json": {
              "type": "dataframe",
              "variable_name": "df",
              "summary": "{\n  \"name\": \"df\",\n  \"rows\": 87,\n  \"fields\": [\n    {\n      \"column\": \"LIST\\u00a0OF\\u00a0GOVERNMENT\\u00a0COLLEGES\\u00a0AFFILIATED\\u00a0TO\\u00a0THE\\u00a0UNIVERSITY\\u00a0OF\\u00a0JAMMU\",\n      \"properties\": {\n        \"dtype\": \"string\",\n        \"num_unique_values\": 72,\n        \"samples\": [\n          3,\n          61,\n          17\n        ],\n        \"semantic_type\": \"\",\n        \"description\": \"\"\n      }\n    },\n    {\n      \"column\": \"Unnamed: 1\",\n      \"properties\": {\n        \"dtype\": \"string\",\n        \"num_unique_values\": 87,\n        \"samples\": [\n          \"School of Architecture, GCET, Jammu\",\n          \"Name of the College\",\n          \"Govt. Degree College, Budhal\"\n        ],\n        \"semantic_type\": \"\",\n        \"description\": \"\"\n      }\n    },\n    {\n      \"column\": \"Unnamed: 2\",\n      \"properties\": {\n        \"dtype\": \"category\",\n        \"num_unique_values\": 18,\n        \"samples\": [\n          \"Year of\\nEstab.\",\n          1955,\n          2008\n        ],\n        \"semantic_type\": \"\",\n        \"description\": \"\"\n      }\n    },\n    {\n      \"column\": \"Unnamed: 3\",\n      \"properties\": {\n        \"dtype\": \"category\",\n        \"num_unique_values\": 17,\n        \"samples\": [\n          \"Basic Course Offered\",\n          \"Arts, Science, Commerce\",\n          \"Arts\"\n        ],\n        \"semantic_type\": \"\",\n        \"description\": \"\"\n      }\n    },\n    {\n      \"column\": \"Unnamed: 4\",\n      \"properties\": {\n        \"dtype\": \"category\",\n        \"num_unique_values\": 20,\n        \"samples\": [\n          \"Other Courses run by the college with year of\\nEstab.\",\n          \"PG(MD/MS)-   General   Surgery,   Anesthesiology, Pathology, Physiology, Radio-Diagnosis, Anatomy, Obst.    &    Gynecology,    Community    Medicine, Pediatrics,  Pharmacology,  Immunohaematology  & Blood Transfusion Medicine, Microbiology\\nB.Sc. Paramedical(2020)\",\n          \"B.Sc.(2022)\"\n        ],\n        \"semantic_type\": \"\",\n        \"description\": \"\"\n      }\n    }\n  ]\n}"
            }
          },
          "metadata": {},
          "execution_count": 7
        }
      ]
    },
    {
      "cell_type": "code",
      "source": [
        "print(df.columns.tolist())\n"
      ],
      "metadata": {
        "colab": {
          "base_uri": "https://localhost:8080/"
        },
        "id": "8D4bqHD7Y4nY",
        "outputId": "7304b1c7-37fc-44f8-9c3a-2bd7c99ec57a"
      },
      "execution_count": 9,
      "outputs": [
        {
          "output_type": "stream",
          "name": "stdout",
          "text": [
            "['LIST\\xa0OF\\xa0GOVERNMENT\\xa0COLLEGES\\xa0AFFILIATED\\xa0TO\\xa0THE\\xa0UNIVERSITY\\xa0OF\\xa0JAMMU', 'Unnamed: 1', 'Unnamed: 2', 'Unnamed: 3', 'Unnamed: 4']\n"
          ]
        }
      ]
    },
    {
      "cell_type": "code",
      "source": [
        "df = pd.read_excel(\"CDC colleges.xlsx\", header=2)  # skip top 2 rows\n",
        "print(df.head())\n",
        "print(df.columns.tolist())\n"
      ],
      "metadata": {
        "colab": {
          "base_uri": "https://localhost:8080/"
        },
        "id": "n-ntRUKIZDwZ",
        "outputId": "bc2e7615-8b73-4aec-9a35-b896b40ad617"
      },
      "execution_count": 10,
      "outputs": [
        {
          "output_type": "stream",
          "name": "stdout",
          "text": [
            "   A                                Degree Colleges(65)  Unnamed: 2  \\\n",
            "0  1  Shri  Krishan  Chander  Govt.  Degree  College...      1955.0   \n",
            "1  2                    Govt. Degree College, Bhaderwah      1955.0   \n",
            "2  3                       Govt. Degree College, Kathua      1961.0   \n",
            "3  4              Govt. Degree College (Boys), Udhampur      1961.0   \n",
            "4  5                      Govt. Degree College, Rajouri      1981.0   \n",
            "\n",
            "                                      Unnamed: 3  \\\n",
            "0                        Arts, Science, Commerce   \n",
            "1                        Arts, Science, Commerce   \n",
            "2  Arts,  Science,  Commerce, B.Sc. Home Science   \n",
            "3                        Arts, Science, Commerce   \n",
            "4                        Arts, Science, Commerce   \n",
            "\n",
            "                                          Unnamed: 4  \n",
            "0                                          BCA(2004)  \n",
            "1              BCA(2002)\\nPG in Chemistry PG in Urdu  \n",
            "2               BCA(2002) BBA(2008)\\nPG in Geography  \n",
            "3  BCA(2010) BBA(2002)\\nPG in Hindi PG in English...  \n",
            "4  BCA(2002) MCA(2004)\\nPG in Chemistry (2004)\\nP...  \n",
            "['A', 'Degree Colleges(65)', 'Unnamed: 2', 'Unnamed: 3', 'Unnamed: 4']\n"
          ]
        }
      ]
    },
    {
      "cell_type": "code",
      "source": [
        "df = pd.read_excel(\"CDC colleges.xlsx\", header=0)\n",
        "\n",
        "df = df.rename(columns={\n",
        "    \"Degree Colleges(65)\": \"College Name\",\n",
        "    \"Unnamed: 2\": \"Year\",\n",
        "    \"Unnamed: 3\": \"Basic Courses\",\n",
        "    \"Unnamed: 4\": \"Other Courses\"\n",
        "})\n",
        "\n",
        "print(df.head())\n",
        "print(df.columns.tolist())\n"
      ],
      "metadata": {
        "colab": {
          "base_uri": "https://localhost:8080/"
        },
        "id": "cqXhVoGpZFC3",
        "outputId": "fba84cc0-1a14-4a7f-8694-7d6afd9ab868"
      },
      "execution_count": 11,
      "outputs": [
        {
          "output_type": "stream",
          "name": "stdout",
          "text": [
            "  LIST OF GOVERNMENT COLLEGES AFFILIATED TO THE UNIVERSITY OF JAMMU  \\\n",
            "0                                              SN\\no                  \n",
            "1                                                  A                  \n",
            "2                                                  1                  \n",
            "3                                                  2                  \n",
            "4                                                  3                  \n",
            "\n",
            "                                          Unnamed: 1             Year  \\\n",
            "0                                Name of the College  Year of\\nEstab.   \n",
            "1                                Degree Colleges(65)              NaN   \n",
            "2  Shri  Krishan  Chander  Govt.  Degree  College...             1955   \n",
            "3                    Govt. Degree College, Bhaderwah             1955   \n",
            "4                       Govt. Degree College, Kathua             1961   \n",
            "\n",
            "                                   Basic Courses  \\\n",
            "0                           Basic Course Offered   \n",
            "1                                            NaN   \n",
            "2                        Arts, Science, Commerce   \n",
            "3                        Arts, Science, Commerce   \n",
            "4  Arts,  Science,  Commerce, B.Sc. Home Science   \n",
            "\n",
            "                                       Other Courses  \n",
            "0  Other Courses run by the college with year of\\...  \n",
            "1                                                NaN  \n",
            "2                                          BCA(2004)  \n",
            "3              BCA(2002)\\nPG in Chemistry PG in Urdu  \n",
            "4               BCA(2002) BBA(2008)\\nPG in Geography  \n",
            "['LIST\\xa0OF\\xa0GOVERNMENT\\xa0COLLEGES\\xa0AFFILIATED\\xa0TO\\xa0THE\\xa0UNIVERSITY\\xa0OF\\xa0JAMMU', 'Unnamed: 1', 'Year', 'Basic Courses', 'Other Courses']\n"
          ]
        }
      ]
    },
    {
      "cell_type": "code",
      "source": [
        "all_courses = []\n",
        "\n",
        "for idx, row in df.iterrows():\n",
        "    if pd.notna(row[\"Basic Courses\"]):\n",
        "        all_courses.extend([c.strip() for c in str(row[\"Basic Courses\"]).split(\",\")])\n",
        "    if pd.notna(row[\"Other Courses\"]):\n",
        "        all_courses.extend([c.strip() for c in str(row[\"Other Courses\"]).replace(\"\\n\", \" \").split()])\n",
        "\n",
        "# Deduplicate\n",
        "all_courses = sorted(set(all_courses))\n",
        "print(\"Number of unique courses:\", len(all_courses))\n",
        "print(\"Sample:\", all_courses[:20])\n"
      ],
      "metadata": {
        "colab": {
          "base_uri": "https://localhost:8080/"
        },
        "id": "FzhnSh-UZOwB",
        "outputId": "f4e7babb-7386-43f9-f484-9ca6d8b00605"
      },
      "execution_count": 12,
      "outputs": [
        {
          "output_type": "stream",
          "name": "stdout",
          "text": [
            "Number of unique courses: 98\n",
            "Sample: ['&', '(2004)', '(2019)', '(2022)', '(Hons.)', 'Anatomy,', 'Anesthesiology,', 'Arabic,', 'Arts', 'B.A.', 'B.Arch.', 'B.Sc.', 'B.Sc. Home Science', 'B.Sc. Nursing (30)', 'B.Sc. Nursing (40)', 'B.Sc. Nursing (60)', 'B.Sc.(2020)', 'B.Sc.(2021)', 'B.Sc.(2022)', 'B.sc.(2022)']\n"
          ]
        }
      ]
    },
    {
      "cell_type": "code",
      "source": [
        "import re\n",
        "\n",
        "cleaned_courses = []\n",
        "for c in all_courses:\n",
        "    # remove commas, parentheses, and digits\n",
        "    c = re.sub(r\"[\\d\\(\\),]\", \"\", c).strip()\n",
        "    # skip if it's empty or just symbols\n",
        "    if not c or len(c) < 2:\n",
        "        continue\n",
        "    # capitalize nicely\n",
        "    cleaned_courses.append(c)\n",
        "\n",
        "cleaned_courses = sorted(set(cleaned_courses))\n",
        "print(\"Number of cleaned courses:\", len(cleaned_courses))\n",
        "print(\"Sample:\", cleaned_courses[:20])\n"
      ],
      "metadata": {
        "colab": {
          "base_uri": "https://localhost:8080/"
        },
        "id": "QKAvziD2ZXlq",
        "outputId": "4163a9b3-c0d1-465e-bc35-5b37e468c2ab"
      },
      "execution_count": 13,
      "outputs": [
        {
          "output_type": "stream",
          "name": "stdout",
          "text": [
            "Number of cleaned courses: 74\n",
            "Sample: ['Anatomy', 'Anesthesiology', 'Arabic', 'Arts', 'B.A.', 'B.Arch.', 'B.Sc.', 'B.Sc. Home Science', 'B.Sc. Nursing', 'B.sc.', 'BAMS', 'BBA', 'BCA', 'BDS MD', 'BE', 'Basic Course Offered', 'Blood', 'BridgeConservative', 'Chemistry', 'Commerce']\n"
          ]
        }
      ]
    },
    {
      "cell_type": "code",
      "source": [
        "def colleges_for_course(course):\n",
        "    result = df[\n",
        "        df[\"Basic Courses\"].str.contains(course, case=False, na=False) |\n",
        "        df[\"Other Courses\"].str.contains(course, case=False, na=False)\n",
        "    ]\n",
        "    return result[\"College Name\"].dropna().unique().tolist()"
      ],
      "metadata": {
        "id": "sZpHwUWuZhzW"
      },
      "execution_count": 14,
      "outputs": []
    },
    {
      "cell_type": "code",
      "source": [
        "print(df.columns.tolist())\n",
        "\n"
      ],
      "metadata": {
        "colab": {
          "base_uri": "https://localhost:8080/"
        },
        "id": "RHtRnt3_ZzsW",
        "outputId": "47f8ba37-88c6-4e22-fc06-89d0dea0bf84"
      },
      "execution_count": 15,
      "outputs": [
        {
          "output_type": "stream",
          "name": "stdout",
          "text": [
            "['LIST\\xa0OF\\xa0GOVERNMENT\\xa0COLLEGES\\xa0AFFILIATED\\xa0TO\\xa0THE\\xa0UNIVERSITY\\xa0OF\\xa0JAMMU', 'Unnamed: 1', 'Year', 'Basic Courses', 'Other Courses']\n"
          ]
        }
      ]
    },
    {
      "cell_type": "code",
      "source": [
        "df = pd.read_excel(\"CDC colleges.xlsx\", header=0)\n",
        "\n",
        "df = df.rename(columns={\n",
        "    'LIST\\xa0OF\\xa0GOVERNMENT\\xa0COLLEGES\\xa0AFFILIATED\\xa0TO\\xa0THE\\xa0UNIVERSITY\\xa0OF\\xa0JAMMU': 'College Name',\n",
        "    'Unnamed: 1': 'Index',\n",
        "    'Year': 'Year',\n",
        "    'Basic Courses': 'Basic Courses',\n",
        "    'Other Courses': 'Other Courses'\n",
        "})\n",
        "\n",
        "print(df.columns.tolist())\n"
      ],
      "metadata": {
        "colab": {
          "base_uri": "https://localhost:8080/"
        },
        "id": "XhwTSZttZ8yc",
        "outputId": "7adc48f8-6a34-4ba5-d33c-362e45d42b9a"
      },
      "execution_count": 16,
      "outputs": [
        {
          "output_type": "stream",
          "name": "stdout",
          "text": [
            "['College Name', 'Index', 'Unnamed: 2', 'Unnamed: 3', 'Unnamed: 4']\n"
          ]
        }
      ]
    },
    {
      "cell_type": "code",
      "source": [
        "df.columns = df.columns.str.strip()   # removes spaces\n",
        "df.columns = df.columns.str.replace(\"\\xa0\", \" \", regex=True)  # remove weird non-breaking spaces\n",
        "print(df.columns.tolist())\n"
      ],
      "metadata": {
        "colab": {
          "base_uri": "https://localhost:8080/"
        },
        "id": "JyJpK6BmaHBN",
        "outputId": "0f0a82e3-26a5-489c-81ea-0bd44cd536ae"
      },
      "execution_count": 18,
      "outputs": [
        {
          "output_type": "stream",
          "name": "stdout",
          "text": [
            "['College Name', 'Index', 'Unnamed: 2', 'Unnamed: 3', 'Unnamed: 4']\n"
          ]
        }
      ]
    },
    {
      "cell_type": "code",
      "source": [
        "df = df.rename(columns={\n",
        "    \"Unnamed: 2\": \"Year\",\n",
        "    \"Unnamed: 3\": \"Basic Courses\",\n",
        "    \"Unnamed: 4\": \"Other Courses\"\n",
        "})\n",
        "\n",
        "print(df.columns.tolist())\n"
      ],
      "metadata": {
        "colab": {
          "base_uri": "https://localhost:8080/"
        },
        "id": "kEbajuCOaNyR",
        "outputId": "45e8ddca-2b4d-49b0-82b2-3bf11feed2c4"
      },
      "execution_count": 19,
      "outputs": [
        {
          "output_type": "stream",
          "name": "stdout",
          "text": [
            "['College Name', 'Index', 'Year', 'Basic Courses', 'Other Courses']\n"
          ]
        }
      ]
    },
    {
      "cell_type": "code",
      "source": [
        "import re\n",
        "\n",
        "def clean_text(x):\n",
        "    if pd.isna(x):\n",
        "        return \"\"\n",
        "    return re.sub(r\"[\\d\\(\\)\\n]\", \"\", str(x))  # remove numbers, years, newlines\n",
        "\n",
        "df[\"Basic Clean\"] = df[\"Basic Courses\"].apply(clean_text)\n",
        "df[\"Other Clean\"] = df[\"Other Courses\"].apply(clean_text)"
      ],
      "metadata": {
        "id": "aZQ_AvYfaTH3"
      },
      "execution_count": 20,
      "outputs": []
    },
    {
      "cell_type": "code",
      "source": [
        "def colleges_for_course(course):\n",
        "    result = df[\n",
        "        df[\"Basic Clean\"].str.contains(course, case=False, na=False) |\n",
        "        df[\"Other Clean\"].str.contains(course, case=False, na=False)\n",
        "    ]\n",
        "    return result[\"College Name\"].dropna().unique().tolist()\n"
      ],
      "metadata": {
        "id": "WbxMFccyaWIv"
      },
      "execution_count": 21,
      "outputs": []
    },
    {
      "cell_type": "code",
      "source": [
        "print(colleges_for_course(\"BCA\"))\n",
        "print(colleges_for_course(\"Commerce\"))\n",
        "print(colleges_for_course(\"B.Sc. Nursing\"))\n"
      ],
      "metadata": {
        "colab": {
          "base_uri": "https://localhost:8080/"
        },
        "id": "4yiXNpyIaYc1",
        "outputId": "ffbed84a-ca3f-4dd9-ebfd-977a76c862cf"
      },
      "execution_count": 22,
      "outputs": [
        {
          "output_type": "stream",
          "name": "stdout",
          "text": [
            "[1, 2, 3, 4, 5, 6, 8, 9, 12, 15, 17]\n",
            "[1, 2, 3, 4, 5, 6, 7, 8, 9, 10, 14, 15, 17, 18, 19, 44, 45, 46, 53, 54]\n",
            "[1, 2, 3, 4, 5, 6, 7]\n"
          ]
        }
      ]
    },
    {
      "cell_type": "code",
      "source": [
        "# Step 1: Clean column names\n",
        "df.columns = df.columns.str.strip()            # Remove leading/trailing spaces\n",
        "df.columns = df.columns.str.replace(r'\\s+', ' ', regex=True)  # Replace multiple spaces/newlines with single space\n",
        "\n",
        "# Step 2: Check column names\n",
        "print(df.columns)\n"
      ],
      "metadata": {
        "colab": {
          "base_uri": "https://localhost:8080/"
        },
        "id": "MXkZk2eMtAUT",
        "outputId": "46060b33-4ce5-47c1-f388-4a0f1c506714"
      },
      "execution_count": 23,
      "outputs": [
        {
          "output_type": "stream",
          "name": "stdout",
          "text": [
            "Index(['College Name', 'Index', 'Year', 'Basic Courses', 'Other Courses',\n",
            "       'Basic Clean', 'Other Clean'],\n",
            "      dtype='object')\n"
          ]
        }
      ]
    },
    {
      "cell_type": "code",
      "source": [
        "def colleges_for_course(course):\n",
        "    result = df[\n",
        "        df[\"Basic Course Offered\"].str.contains(course, case=False, na=False) |\n",
        "        df[\"Other Courses run by the college with year of Estab.\"].str.contains(course, case=False, na=False)\n",
        "    ]\n",
        "    return result[\"Name of the College\"].dropna().unique().tolist()\n"
      ],
      "metadata": {
        "id": "Ubnzgn5otq8t"
      },
      "execution_count": 24,
      "outputs": []
    },
    {
      "cell_type": "code",
      "source": [
        "print(colleges_for_course(\"BCA\"))\n",
        "print(colleges_for_course(\"Commerce\"))\n",
        "print(colleges_for_course(\"B.Sc. Nursing\"))\n"
      ],
      "metadata": {
        "colab": {
          "base_uri": "https://localhost:8080/",
          "height": 547
        },
        "id": "QkuslJynttBn",
        "outputId": "799c602c-61e2-4639-9733-2072550ac2ba"
      },
      "execution_count": 25,
      "outputs": [
        {
          "output_type": "error",
          "ename": "KeyError",
          "evalue": "'Basic Course Offered'",
          "traceback": [
            "\u001b[0;31m---------------------------------------------------------------------------\u001b[0m",
            "\u001b[0;31mKeyError\u001b[0m                                  Traceback (most recent call last)",
            "\u001b[0;32m/usr/local/lib/python3.12/dist-packages/pandas/core/indexes/base.py\u001b[0m in \u001b[0;36mget_loc\u001b[0;34m(self, key)\u001b[0m\n\u001b[1;32m   3804\u001b[0m         \u001b[0;32mtry\u001b[0m\u001b[0;34m:\u001b[0m\u001b[0;34m\u001b[0m\u001b[0;34m\u001b[0m\u001b[0m\n\u001b[0;32m-> 3805\u001b[0;31m             \u001b[0;32mreturn\u001b[0m \u001b[0mself\u001b[0m\u001b[0;34m.\u001b[0m\u001b[0m_engine\u001b[0m\u001b[0;34m.\u001b[0m\u001b[0mget_loc\u001b[0m\u001b[0;34m(\u001b[0m\u001b[0mcasted_key\u001b[0m\u001b[0;34m)\u001b[0m\u001b[0;34m\u001b[0m\u001b[0;34m\u001b[0m\u001b[0m\n\u001b[0m\u001b[1;32m   3806\u001b[0m         \u001b[0;32mexcept\u001b[0m \u001b[0mKeyError\u001b[0m \u001b[0;32mas\u001b[0m \u001b[0merr\u001b[0m\u001b[0;34m:\u001b[0m\u001b[0;34m\u001b[0m\u001b[0;34m\u001b[0m\u001b[0m\n",
            "\u001b[0;32mindex.pyx\u001b[0m in \u001b[0;36mpandas._libs.index.IndexEngine.get_loc\u001b[0;34m()\u001b[0m\n",
            "\u001b[0;32mindex.pyx\u001b[0m in \u001b[0;36mpandas._libs.index.IndexEngine.get_loc\u001b[0;34m()\u001b[0m\n",
            "\u001b[0;32mpandas/_libs/hashtable_class_helper.pxi\u001b[0m in \u001b[0;36mpandas._libs.hashtable.PyObjectHashTable.get_item\u001b[0;34m()\u001b[0m\n",
            "\u001b[0;32mpandas/_libs/hashtable_class_helper.pxi\u001b[0m in \u001b[0;36mpandas._libs.hashtable.PyObjectHashTable.get_item\u001b[0;34m()\u001b[0m\n",
            "\u001b[0;31mKeyError\u001b[0m: 'Basic Course Offered'",
            "\nThe above exception was the direct cause of the following exception:\n",
            "\u001b[0;31mKeyError\u001b[0m                                  Traceback (most recent call last)",
            "\u001b[0;32m/tmp/ipython-input-1614409012.py\u001b[0m in \u001b[0;36m<cell line: 0>\u001b[0;34m()\u001b[0m\n\u001b[0;32m----> 1\u001b[0;31m \u001b[0mprint\u001b[0m\u001b[0;34m(\u001b[0m\u001b[0mcolleges_for_course\u001b[0m\u001b[0;34m(\u001b[0m\u001b[0;34m\"BCA\"\u001b[0m\u001b[0;34m)\u001b[0m\u001b[0;34m)\u001b[0m\u001b[0;34m\u001b[0m\u001b[0;34m\u001b[0m\u001b[0m\n\u001b[0m\u001b[1;32m      2\u001b[0m \u001b[0mprint\u001b[0m\u001b[0;34m(\u001b[0m\u001b[0mcolleges_for_course\u001b[0m\u001b[0;34m(\u001b[0m\u001b[0;34m\"Commerce\"\u001b[0m\u001b[0;34m)\u001b[0m\u001b[0;34m)\u001b[0m\u001b[0;34m\u001b[0m\u001b[0;34m\u001b[0m\u001b[0m\n\u001b[1;32m      3\u001b[0m \u001b[0mprint\u001b[0m\u001b[0;34m(\u001b[0m\u001b[0mcolleges_for_course\u001b[0m\u001b[0;34m(\u001b[0m\u001b[0;34m\"B.Sc. Nursing\"\u001b[0m\u001b[0;34m)\u001b[0m\u001b[0;34m)\u001b[0m\u001b[0;34m\u001b[0m\u001b[0;34m\u001b[0m\u001b[0m\n",
            "\u001b[0;32m/tmp/ipython-input-337680941.py\u001b[0m in \u001b[0;36mcolleges_for_course\u001b[0;34m(course)\u001b[0m\n\u001b[1;32m      1\u001b[0m \u001b[0;32mdef\u001b[0m \u001b[0mcolleges_for_course\u001b[0m\u001b[0;34m(\u001b[0m\u001b[0mcourse\u001b[0m\u001b[0;34m)\u001b[0m\u001b[0;34m:\u001b[0m\u001b[0;34m\u001b[0m\u001b[0;34m\u001b[0m\u001b[0m\n\u001b[1;32m      2\u001b[0m     result = df[\n\u001b[0;32m----> 3\u001b[0;31m         \u001b[0mdf\u001b[0m\u001b[0;34m[\u001b[0m\u001b[0;34m\"Basic Course Offered\"\u001b[0m\u001b[0;34m]\u001b[0m\u001b[0;34m.\u001b[0m\u001b[0mstr\u001b[0m\u001b[0;34m.\u001b[0m\u001b[0mcontains\u001b[0m\u001b[0;34m(\u001b[0m\u001b[0mcourse\u001b[0m\u001b[0;34m,\u001b[0m \u001b[0mcase\u001b[0m\u001b[0;34m=\u001b[0m\u001b[0;32mFalse\u001b[0m\u001b[0;34m,\u001b[0m \u001b[0mna\u001b[0m\u001b[0;34m=\u001b[0m\u001b[0;32mFalse\u001b[0m\u001b[0;34m)\u001b[0m \u001b[0;34m|\u001b[0m\u001b[0;34m\u001b[0m\u001b[0;34m\u001b[0m\u001b[0m\n\u001b[0m\u001b[1;32m      4\u001b[0m         \u001b[0mdf\u001b[0m\u001b[0;34m[\u001b[0m\u001b[0;34m\"Other Courses run by the college with year of Estab.\"\u001b[0m\u001b[0;34m]\u001b[0m\u001b[0;34m.\u001b[0m\u001b[0mstr\u001b[0m\u001b[0;34m.\u001b[0m\u001b[0mcontains\u001b[0m\u001b[0;34m(\u001b[0m\u001b[0mcourse\u001b[0m\u001b[0;34m,\u001b[0m \u001b[0mcase\u001b[0m\u001b[0;34m=\u001b[0m\u001b[0;32mFalse\u001b[0m\u001b[0;34m,\u001b[0m \u001b[0mna\u001b[0m\u001b[0;34m=\u001b[0m\u001b[0;32mFalse\u001b[0m\u001b[0;34m)\u001b[0m\u001b[0;34m\u001b[0m\u001b[0;34m\u001b[0m\u001b[0m\n\u001b[1;32m      5\u001b[0m     ]\n",
            "\u001b[0;32m/usr/local/lib/python3.12/dist-packages/pandas/core/frame.py\u001b[0m in \u001b[0;36m__getitem__\u001b[0;34m(self, key)\u001b[0m\n\u001b[1;32m   4100\u001b[0m             \u001b[0;32mif\u001b[0m \u001b[0mself\u001b[0m\u001b[0;34m.\u001b[0m\u001b[0mcolumns\u001b[0m\u001b[0;34m.\u001b[0m\u001b[0mnlevels\u001b[0m \u001b[0;34m>\u001b[0m \u001b[0;36m1\u001b[0m\u001b[0;34m:\u001b[0m\u001b[0;34m\u001b[0m\u001b[0;34m\u001b[0m\u001b[0m\n\u001b[1;32m   4101\u001b[0m                 \u001b[0;32mreturn\u001b[0m \u001b[0mself\u001b[0m\u001b[0;34m.\u001b[0m\u001b[0m_getitem_multilevel\u001b[0m\u001b[0;34m(\u001b[0m\u001b[0mkey\u001b[0m\u001b[0;34m)\u001b[0m\u001b[0;34m\u001b[0m\u001b[0;34m\u001b[0m\u001b[0m\n\u001b[0;32m-> 4102\u001b[0;31m             \u001b[0mindexer\u001b[0m \u001b[0;34m=\u001b[0m \u001b[0mself\u001b[0m\u001b[0;34m.\u001b[0m\u001b[0mcolumns\u001b[0m\u001b[0;34m.\u001b[0m\u001b[0mget_loc\u001b[0m\u001b[0;34m(\u001b[0m\u001b[0mkey\u001b[0m\u001b[0;34m)\u001b[0m\u001b[0;34m\u001b[0m\u001b[0;34m\u001b[0m\u001b[0m\n\u001b[0m\u001b[1;32m   4103\u001b[0m             \u001b[0;32mif\u001b[0m \u001b[0mis_integer\u001b[0m\u001b[0;34m(\u001b[0m\u001b[0mindexer\u001b[0m\u001b[0;34m)\u001b[0m\u001b[0;34m:\u001b[0m\u001b[0;34m\u001b[0m\u001b[0;34m\u001b[0m\u001b[0m\n\u001b[1;32m   4104\u001b[0m                 \u001b[0mindexer\u001b[0m \u001b[0;34m=\u001b[0m \u001b[0;34m[\u001b[0m\u001b[0mindexer\u001b[0m\u001b[0;34m]\u001b[0m\u001b[0;34m\u001b[0m\u001b[0;34m\u001b[0m\u001b[0m\n",
            "\u001b[0;32m/usr/local/lib/python3.12/dist-packages/pandas/core/indexes/base.py\u001b[0m in \u001b[0;36mget_loc\u001b[0;34m(self, key)\u001b[0m\n\u001b[1;32m   3810\u001b[0m             ):\n\u001b[1;32m   3811\u001b[0m                 \u001b[0;32mraise\u001b[0m \u001b[0mInvalidIndexError\u001b[0m\u001b[0;34m(\u001b[0m\u001b[0mkey\u001b[0m\u001b[0;34m)\u001b[0m\u001b[0;34m\u001b[0m\u001b[0;34m\u001b[0m\u001b[0m\n\u001b[0;32m-> 3812\u001b[0;31m             \u001b[0;32mraise\u001b[0m \u001b[0mKeyError\u001b[0m\u001b[0;34m(\u001b[0m\u001b[0mkey\u001b[0m\u001b[0;34m)\u001b[0m \u001b[0;32mfrom\u001b[0m \u001b[0merr\u001b[0m\u001b[0;34m\u001b[0m\u001b[0;34m\u001b[0m\u001b[0m\n\u001b[0m\u001b[1;32m   3813\u001b[0m         \u001b[0;32mexcept\u001b[0m \u001b[0mTypeError\u001b[0m\u001b[0;34m:\u001b[0m\u001b[0;34m\u001b[0m\u001b[0;34m\u001b[0m\u001b[0m\n\u001b[1;32m   3814\u001b[0m             \u001b[0;31m# If we have a listlike key, _check_indexing_error will raise\u001b[0m\u001b[0;34m\u001b[0m\u001b[0;34m\u001b[0m\u001b[0m\n",
            "\u001b[0;31mKeyError\u001b[0m: 'Basic Course Offered'"
          ]
        }
      ]
    },
    {
      "cell_type": "code",
      "source": [
        "# Step 1: See all columns\n",
        "print(df.columns.tolist())\n"
      ],
      "metadata": {
        "colab": {
          "base_uri": "https://localhost:8080/"
        },
        "id": "mKSNHOq4tyUQ",
        "outputId": "e08b6ed3-3f21-43e7-806f-24278865dcd3"
      },
      "execution_count": 26,
      "outputs": [
        {
          "output_type": "stream",
          "name": "stdout",
          "text": [
            "['College Name', 'Index', 'Year', 'Basic Courses', 'Other Courses', 'Basic Clean', 'Other Clean']\n"
          ]
        }
      ]
    },
    {
      "cell_type": "code",
      "source": [
        "# Remove leading/trailing spaces, replace newlines with spaces\n",
        "df.columns = df.columns.str.strip()                     # remove leading/trailing spaces\n",
        "df.columns = df.columns.str.replace('\\n', ' ', regex=True)  # replace newlines with space\n",
        "df.columns = df.columns.str.replace(r'\\s+', ' ', regex=True) # collapse multiple spaces\n"
      ],
      "metadata": {
        "id": "aLwr85UTt0ut"
      },
      "execution_count": 27,
      "outputs": []
    },
    {
      "cell_type": "code",
      "source": [
        "print(df.columns.tolist())\n"
      ],
      "metadata": {
        "colab": {
          "base_uri": "https://localhost:8080/"
        },
        "id": "oery-FIht2yO",
        "outputId": "5f4c5947-0549-46a7-9112-6197b70f997f"
      },
      "execution_count": 28,
      "outputs": [
        {
          "output_type": "stream",
          "name": "stdout",
          "text": [
            "['College Name', 'Index', 'Year', 'Basic Courses', 'Other Courses', 'Basic Clean', 'Other Clean']\n"
          ]
        }
      ]
    },
    {
      "cell_type": "code",
      "source": [
        "def colleges_for_course(course):\n",
        "    result = df[\n",
        "        df[\"Basic Course Offered\"].str.contains(course, case=False, na=False) |\n",
        "        df[\"Other Courses run by the college with year of Estab.\"].str.contains(course, case=False, na=False)\n",
        "    ]\n",
        "    return result[\"Name of the College\"].dropna().unique().tolist()\n"
      ],
      "metadata": {
        "id": "WGIH9dAMt45T"
      },
      "execution_count": 30,
      "outputs": []
    },
    {
      "cell_type": "code",
      "source": [
        "def colleges_for_course(course):\n",
        "    # Clean both columns for matching\n",
        "    basic = df[\"Basic Course Offered\"].str.replace(r'\\s+', ' ', regex=True).str.strip()\n",
        "    other = df[\"Other Courses run by the college with year of Estab.\"].str.replace(r'\\s+', ' ', regex=True).str.strip()\n",
        "\n",
        "    # Case-insensitive, partial match\n",
        "    result = df[basic.str.contains(course, case=False, na=False) |\n",
        "                other.str.contains(course, case=False, na=False)]\n",
        "\n",
        "    return result[\"Name of the College\"].dropna().unique().tolist()\n"
      ],
      "metadata": {
        "id": "6iPz_SvCuEyP"
      },
      "execution_count": 31,
      "outputs": []
    },
    {
      "cell_type": "code",
      "source": [
        "# See exactly what your column names are\n",
        "for i, col in enumerate(df.columns):\n",
        "    print(i, repr(col))\n"
      ],
      "metadata": {
        "colab": {
          "base_uri": "https://localhost:8080/"
        },
        "id": "GuVOU1hTuMne",
        "outputId": "0b6ab97f-1c08-4ff8-d6bc-24c890ae4e9b"
      },
      "execution_count": 33,
      "outputs": [
        {
          "output_type": "stream",
          "name": "stdout",
          "text": [
            "0 'College Name'\n",
            "1 'Index'\n",
            "2 'Year'\n",
            "3 'Basic Courses'\n",
            "4 'Other Courses'\n",
            "5 'Basic Clean'\n",
            "6 'Other Clean'\n"
          ]
        }
      ]
    },
    {
      "cell_type": "code",
      "source": [
        "def colleges_for_course(course):\n",
        "    result = df[\n",
        "        df[\"Basic Clean\"].str.contains(course, case=False, na=False) |\n",
        "        df[\"Other Clean\"].str.contains(course, case=False, na=False)\n",
        "    ]\n",
        "    return result[\"College Name\"].dropna().unique().tolist()\n"
      ],
      "metadata": {
        "id": "6CUEorWIuTYM"
      },
      "execution_count": 34,
      "outputs": []
    },
    {
      "cell_type": "code",
      "source": [
        "def colleges_for_course(course):\n",
        "    # Filter the rows where the course appears in Basic Clean or Other Clean\n",
        "    result = df[\n",
        "        df[\"Basic Clean\"].str.contains(course, case=False, na=False) |\n",
        "        df[\"Other Clean\"].str.contains(course, case=False, na=False)\n",
        "    ]\n",
        "\n",
        "    # Return the College Name column as a list\n",
        "    return result[\"College Name\"].tolist()\n"
      ],
      "metadata": {
        "id": "vvwXkb3TujKC"
      },
      "execution_count": 36,
      "outputs": []
    },
    {
      "cell_type": "code",
      "source": [
        "print(colleges_for_course(\"BCA\"))\n",
        "print(colleges_for_course(\"Commerce\"))\n",
        "print(colleges_for_course(\"B.Sc. Nursing\"))\n"
      ],
      "metadata": {
        "colab": {
          "base_uri": "https://localhost:8080/"
        },
        "id": "D1-776dNuk_W",
        "outputId": "0ba78557-50a8-4b55-c7bb-7743a50f3b31"
      },
      "execution_count": 37,
      "outputs": [
        {
          "output_type": "stream",
          "name": "stdout",
          "text": [
            "[1, 2, 3, 4, 5, 6, 8, 9, 12, 15, 17]\n",
            "[1, 2, 3, 4, 5, 6, 7, 8, 9, 10, 14, 15, 17, 18, 19, 44, 45, 46, 53, 54]\n",
            "[1, 2, 3, 4, 5, 6, 7]\n"
          ]
        }
      ]
    },
    {
      "cell_type": "code",
      "source": [
        "import pandas as pd\n",
        "\n",
        "df = pd.read_excel(\"/content/CDC colleges.xlsx\", header=None)  # read without assuming a header\n",
        "print(df.head(10))  # see first 10 rows\n"
      ],
      "metadata": {
        "colab": {
          "base_uri": "https://localhost:8080/"
        },
        "id": "EkXFFrHyvDA2",
        "outputId": "245ea7bf-5886-461d-9061-78a8ebaa81ef"
      },
      "execution_count": 40,
      "outputs": [
        {
          "output_type": "stream",
          "name": "stdout",
          "text": [
            "                                                   0  \\\n",
            "0  LIST OF GOVERNMENT COLLEGES AFFILIATED TO THE ...   \n",
            "1                                              SN\\no   \n",
            "2                                                  A   \n",
            "3                                                  1   \n",
            "4                                                  2   \n",
            "5                                                  3   \n",
            "6                                                  4   \n",
            "7                                                  5   \n",
            "8                                                  6   \n",
            "9                                                  7   \n",
            "\n",
            "                                                   1                2  \\\n",
            "0                                                NaN              NaN   \n",
            "1                                Name of the College  Year of\\nEstab.   \n",
            "2                                Degree Colleges(65)              NaN   \n",
            "3  Shri  Krishan  Chander  Govt.  Degree  College...             1955   \n",
            "4                    Govt. Degree College, Bhaderwah             1955   \n",
            "5                       Govt. Degree College, Kathua             1961   \n",
            "6              Govt. Degree College (Boys), Udhampur             1961   \n",
            "7                      Govt. Degree College, Rajouri             1981   \n",
            "8           Govt. Degree College for women, Udhampur             1986   \n",
            "9                     Govt. Degree College, Kishtwar             1986   \n",
            "\n",
            "                                               3  \\\n",
            "0                                            NaN   \n",
            "1                           Basic Course Offered   \n",
            "2                                            NaN   \n",
            "3                        Arts, Science, Commerce   \n",
            "4                        Arts, Science, Commerce   \n",
            "5  Arts,  Science,  Commerce, B.Sc. Home Science   \n",
            "6                        Arts, Science, Commerce   \n",
            "7                        Arts, Science, Commerce   \n",
            "8                        Arts, Science, Commerce   \n",
            "9                        Arts, Science, Commerce   \n",
            "\n",
            "                                                   4  \n",
            "0                                                NaN  \n",
            "1  Other Courses run by the college with year of\\...  \n",
            "2                                                NaN  \n",
            "3                                          BCA(2004)  \n",
            "4              BCA(2002)\\nPG in Chemistry PG in Urdu  \n",
            "5               BCA(2002) BBA(2008)\\nPG in Geography  \n",
            "6  BCA(2010) BBA(2002)\\nPG in Hindi PG in English...  \n",
            "7  BCA(2002) MCA(2004)\\nPG in Chemistry (2004)\\nP...  \n",
            "8            BCA(2018)\\nB.A. (Hons.) in Hindi (2019)  \n",
            "9                                                NaN  \n"
          ]
        }
      ]
    },
    {
      "cell_type": "code",
      "source": [
        "df = pd.read_excel(\"/content/CDC colleges.xlsx\", header=2)  # use correct header row\n",
        "print(df.columns.tolist())  # check the column names now\n"
      ],
      "metadata": {
        "colab": {
          "base_uri": "https://localhost:8080/"
        },
        "id": "a5pHJislvGYL",
        "outputId": "29dad2c9-c803-4d0b-aa40-9b28866ba6ee"
      },
      "execution_count": 41,
      "outputs": [
        {
          "output_type": "stream",
          "name": "stdout",
          "text": [
            "['A', 'Degree Colleges(65)', 'Unnamed: 2', 'Unnamed: 3', 'Unnamed: 4']\n"
          ]
        }
      ]
    },
    {
      "cell_type": "code",
      "source": [
        "import pandas as pd\n",
        "\n",
        "df = pd.read_excel(\"/content/CDC colleges.xlsx\", header=None)\n",
        "print(df.head(20))\n"
      ],
      "metadata": {
        "colab": {
          "base_uri": "https://localhost:8080/"
        },
        "id": "Yprye9cLvQUD",
        "outputId": "426ce487-efa2-45cc-fb90-270b507bf710"
      },
      "execution_count": 43,
      "outputs": [
        {
          "output_type": "stream",
          "name": "stdout",
          "text": [
            "                                                    0  \\\n",
            "0   LIST OF GOVERNMENT COLLEGES AFFILIATED TO THE ...   \n",
            "1                                               SN\\no   \n",
            "2                                                   A   \n",
            "3                                                   1   \n",
            "4                                                   2   \n",
            "5                                                   3   \n",
            "6                                                   4   \n",
            "7                                                   5   \n",
            "8                                                   6   \n",
            "9                                                   7   \n",
            "10                                                  8   \n",
            "11                                                  9   \n",
            "12                                                 10   \n",
            "13                                                 11   \n",
            "14                                                 12   \n",
            "15                                                 13   \n",
            "16                                                 14   \n",
            "17                                                 15   \n",
            "18                                                 16   \n",
            "19                                                 17   \n",
            "\n",
            "                                                    1                2  \\\n",
            "0                                                 NaN              NaN   \n",
            "1                                 Name of the College  Year of\\nEstab.   \n",
            "2                                 Degree Colleges(65)              NaN   \n",
            "3   Shri  Krishan  Chander  Govt.  Degree  College...             1955   \n",
            "4                     Govt. Degree College, Bhaderwah             1955   \n",
            "5                        Govt. Degree College, Kathua             1961   \n",
            "6               Govt. Degree College (Boys), Udhampur             1961   \n",
            "7                       Govt. Degree College, Rajouri             1981   \n",
            "8            Govt. Degree College for women, Udhampur             1986   \n",
            "9                      Govt. Degree College, Kishtwar             1986   \n",
            "10                         Govt. Degree College, Doda             1989   \n",
            "11  General    Zorawar    Singh    Memorial    Deg...             2003   \n",
            "12                      Govt. Degree College, Akhnoor             2005   \n",
            "13                   Govt. Degree College, R. S. Pura             2005   \n",
            "14             Govt. Degree College for girls, Kathua             2005   \n",
            "15  Girdari  Lal  Dogra  Memorial  Degree  College...             2005   \n",
            "16                      Govt. Degree College, Basohli             2005   \n",
            "17                     Govt. Degree College, Billawar             2005   \n",
            "18  Shri   Chhote    Shah    Govt.    Degree   Col...             2005   \n",
            "19                     Govt. Degree College, Ramnagar             2005   \n",
            "\n",
            "                                                3  \\\n",
            "0                                             NaN   \n",
            "1                            Basic Course Offered   \n",
            "2                                             NaN   \n",
            "3                         Arts, Science, Commerce   \n",
            "4                         Arts, Science, Commerce   \n",
            "5   Arts,  Science,  Commerce, B.Sc. Home Science   \n",
            "6                         Arts, Science, Commerce   \n",
            "7                         Arts, Science, Commerce   \n",
            "8                         Arts, Science, Commerce   \n",
            "9                         Arts, Science, Commerce   \n",
            "10                        Arts, Science, Commerce   \n",
            "11                        Arts, Science, Commerce   \n",
            "12                        Arts, Science, Commerce   \n",
            "13                                  Arts, Science   \n",
            "14                                  Arts, Science   \n",
            "15                                  Arts, Science   \n",
            "16                        Arts, Science, Commerce   \n",
            "17                        Arts, Science, Commerce   \n",
            "18                                  Arts, Science   \n",
            "19                       Arts, Science,  Commerce   \n",
            "\n",
            "                                                    4  \n",
            "0                                                 NaN  \n",
            "1   Other Courses run by the college with year of\\...  \n",
            "2                                                 NaN  \n",
            "3                                           BCA(2004)  \n",
            "4               BCA(2002)\\nPG in Chemistry PG in Urdu  \n",
            "5                BCA(2002) BBA(2008)\\nPG in Geography  \n",
            "6   BCA(2010) BBA(2002)\\nPG in Hindi PG in English...  \n",
            "7   BCA(2002) MCA(2004)\\nPG in Chemistry (2004)\\nP...  \n",
            "8             BCA(2018)\\nB.A. (Hons.) in Hindi (2019)  \n",
            "9                                                 NaN  \n",
            "10                                          BCA(2007)  \n",
            "11  BCA(2014)\\nB.A. (Hons.) in Political Science(2...  \n",
            "12                                                NaN  \n",
            "13                        B.A. (Hons.) in Hindi(2018)  \n",
            "14                                          BCA(2019)  \n",
            "15                                                NaN  \n",
            "16                                                NaN  \n",
            "17                                          BCA(2010)  \n",
            "18                                                NaN  \n",
            "19                                BCA(2010) BBA(2010)  \n"
          ]
        }
      ]
    },
    {
      "cell_type": "code",
      "source": [
        "import pandas as pd\n",
        "\n",
        "# Use header row 1\n",
        "df = pd.read_excel(\"/content/CDC colleges.xlsx\", header=1)\n",
        "\n",
        "# Clean column names\n",
        "df.columns = df.columns.str.strip()                 # remove leading/trailing spaces\n",
        "df.columns = df.columns.str.replace(r'\\n', ' ', regex=True)  # replace newlines with space\n",
        "df.columns = df.columns.str.replace(r'\\s+', ' ', regex=True) # collapse multiple spaces\n",
        "\n",
        "print(df.columns.tolist())\n",
        "\n"
      ],
      "metadata": {
        "colab": {
          "base_uri": "https://localhost:8080/"
        },
        "id": "u0o4UIVTvSM-",
        "outputId": "a8e1e2f3-aac5-4550-e184-ce5dfa2d1f7b"
      },
      "execution_count": 44,
      "outputs": [
        {
          "output_type": "stream",
          "name": "stdout",
          "text": [
            "['SN o', 'Name of the College', 'Year of Estab.', 'Basic Course Offered', 'Other Courses run by the college with year of Estab.']\n"
          ]
        }
      ]
    },
    {
      "cell_type": "code",
      "source": [
        "def colleges_for_course(course):\n",
        "    # Clean the text columns for searching\n",
        "    basic = df[\"Basic Course Offered\"].astype(str).str.replace(r'\\s+', ' ', regex=True).str.strip()\n",
        "    other = df[\"Other Courses run by the college with year of Estab.\"].astype(str).str.replace(r'\\s+', ' ', regex=True).str.strip()\n",
        "\n",
        "    # Case-insensitive search\n",
        "    result = df[basic.str.contains(course, case=False, na=False) | other.str.contains(course, case=False, na=False)]\n",
        "\n",
        "    # Return the college names\n",
        "    return result[\"Name of the College\"].dropna().unique().tolist()\n"
      ],
      "metadata": {
        "id": "JYATGcI-xQfL"
      },
      "execution_count": 45,
      "outputs": []
    },
    {
      "cell_type": "code",
      "source": [
        "print(colleges_for_course(\"BCA\"))\n",
        "print(colleges_for_course(\"Commerce\"))\n",
        "print(colleges_for_course(\"B.Sc. Nursing\"))\n"
      ],
      "metadata": {
        "colab": {
          "base_uri": "https://localhost:8080/"
        },
        "id": "WwOl8I30xS5e",
        "outputId": "516801f0-b19c-41bc-8266-c462d2d49fca"
      },
      "execution_count": 48,
      "outputs": [
        {
          "output_type": "stream",
          "name": "stdout",
          "text": [
            "['Shri  Krishan  Chander  Govt.  Degree  College, Poonch', 'Govt. Degree College, Bhaderwah', 'Govt. Degree College, Kathua', 'Govt. Degree College (Boys), Udhampur', 'Govt. Degree College, Rajouri', 'Govt. Degree College for women, Udhampur', 'Govt. Degree College, Doda', 'General    Zorawar    Singh    Memorial    Degree College, Reasi', 'Govt. Degree College for girls, Kathua', 'Govt. Degree College, Billawar', 'Govt. Degree College, Ramnagar']\n",
            "['Shri  Krishan  Chander  Govt.  Degree  College, Poonch', 'Govt. Degree College, Bhaderwah', 'Govt. Degree College, Kathua', 'Govt. Degree College (Boys), Udhampur', 'Govt. Degree College, Rajouri', 'Govt. Degree College for women, Udhampur', 'Govt. Degree College, Kishtwar', 'Govt. Degree College, Doda', 'General    Zorawar    Singh    Memorial    Degree College, Reasi', 'Govt. Degree College, Akhnoor', 'Govt. Degree College, Basohli', 'Govt. Degree College, Billawar', 'Govt. Degree College, Ramnagar', 'Shri  Pandit  Prem  Nath  Dogra  Govt.  Degree College, Samba', 'Govt. Degree College, Ramban', 'Govt. Degree College, Vijaypur', 'Govt. Degree College, Sidhra', 'Govt.     Degree     College,     Sainik     Colony/ Kunjwani', 'Govt. Degree College, Marh', 'Govt. College for women, Bhagwati Nagar']\n",
            "['Government College of Nursing, Gandhi Nagar, Jammu', 'Government Nursing College, Gangyal, Jammu', 'Government Nursing College, Reasi', 'Government Nursing College, Udhampur', 'Government Nursing College, Doda', 'Government Nursing College, Akhnoor', 'Government Nursing College, Kishtwar']\n"
          ]
        }
      ]
    },
    {
      "cell_type": "code",
      "source": [
        "import pandas as pd\n",
        "import re\n",
        "\n",
        "# Use the actual column names\n",
        "basic_col = \"Basic Course Offered\"\n",
        "other_col = \"Other Courses run by the college with year of Estab.\"\n",
        "\n",
        "all_courses = pd.Series(\n",
        "    df[basic_col].dropna().tolist() + df[other_col].dropna().tolist()\n",
        ")\n",
        "\n",
        "course_set = set()\n",
        "for entry in all_courses:\n",
        "    # Split by comma, newline, parentheses\n",
        "    courses = re.split(r'[,\\n()]', str(entry))\n",
        "    for c in courses:\n",
        "        c = c.strip()\n",
        "        if c:\n",
        "            course_set.add(c)\n",
        "\n",
        "course_list = sorted(course_set)\n",
        "print(course_list)  # now contains all unique courses\n"
      ],
      "metadata": {
        "colab": {
          "base_uri": "https://localhost:8080/"
        },
        "id": "rcrGCbfAyCga",
        "outputId": "ed70962b-ca8e-46f2-f18e-095c480a4aba"
      },
      "execution_count": 50,
      "outputs": [
        {
          "output_type": "stream",
          "name": "stdout",
          "text": [
            "['-   General   Surgery', '2002', '2004', '2007', '2008', '2010', '2014', '2018', '2019', '2020', '2021', '2022', '30', '40', '60', 'Anatomy', 'Anesthesiology', 'Arts', 'B.A.', 'B.Arch.', 'B.Sc.', 'B.Sc. Home Science', 'B.Sc. Nursing', 'B.Sc. Paramedical', 'B.sc.', 'BAMS', 'BBA', 'BCA', 'BDS MD', 'BE', 'Commerce', 'Community    Medicine', 'Conservative    Dentistry    &    Endodontics', 'Geography', 'Hons.', 'Immunohaematology  & Blood Transfusion Medicine', 'MBBS', 'MBBS MD', 'MCA', 'MD/MS', 'Microbiology', 'Obst.    &    Gynecology', 'Oral & Maxillofacial Pathology & Oral Microbiology', 'Oral & Maxillofacial surgery', 'Orthodontics     &     Dentofacial', 'Orthopedics', 'PG', 'PG in  Arabic', 'PG in Chemistry', 'PG in Chemistry PG in Urdu', 'PG in English', 'PG in Geography', 'PG in Hindi PG in English', 'Paediatric  Dentistry', 'Pathology', 'Pediatrics', 'Periodontology', 'Pharmacology', 'Physics', 'Physiology', 'Prosthodontics  and  Crown  & Bridge', 'Radio-Diagnosis', 'Science', 'Urdu', 'in Hindi', 'in History', 'in Political Science', 'in Psychology']\n"
          ]
        }
      ]
    },
    {
      "cell_type": "code",
      "source": [
        "interests = {\n",
        "    \"Engineering\": [\"BE\", \"B.Tech\", \"BCA\", \"MCA\"],\n",
        "    \"Medical\": [\"MBBS\", \"B.Sc. Nursing\", \"B.Sc. Paramedical\", \"BAMS\", \"BDS MD\", \"MD/MS\"],\n",
        "    \"Commerce\": [\"B.Com\", \"BBA\", \"Commerce\"],\n",
        "    \"Arts\": [\"BA\", \"B.A.\", \"B.Sc.\", \"Science\", \"Geography\", \"Hons.\"],\n",
        "    \"Architecture\": [\"B.Arch.\"],\n",
        "    \"Other\": [\"PG in Chemistry\", \"PG in English\", \"PG in Geography\", \"Physics\", \"Mathematics\"]\n",
        "}\n"
      ],
      "metadata": {
        "id": "XSfaw0m3yJX8"
      },
      "execution_count": 51,
      "outputs": []
    },
    {
      "cell_type": "code",
      "source": [
        "quiz_tree = {\n",
        "    \"question\": \"What are your interests?\",\n",
        "    \"options\": {}\n",
        "}\n",
        "\n",
        "for interest, courses in interests.items():\n",
        "    # Each interest leads to a sub-question: choose a course\n",
        "    course_options = {c: f\"Consider colleges offering {c}\" for c in courses if c in course_list}\n",
        "    quiz_tree[\"options\"][interest] = {\n",
        "        \"question\": f\"Which course in {interest} are you interested in?\",\n",
        "        \"options\": course_options\n",
        "    }\n"
      ],
      "metadata": {
        "id": "WReHE0WIyLwT"
      },
      "execution_count": 52,
      "outputs": []
    },
    {
      "cell_type": "code",
      "source": [
        "def run_quiz(node):\n",
        "    if isinstance(node, str):\n",
        "        print(\"\\nRecommendation:\", node)\n",
        "        return\n",
        "\n",
        "    print(\"\\n\" + node[\"question\"])\n",
        "    options = list(node[\"options\"].keys())\n",
        "    for i, opt in enumerate(options, 1):\n",
        "        print(f\"{i}. {opt}\")\n",
        "\n",
        "    choice = input(\"Enter the number of your choice: \")\n",
        "\n",
        "    try:\n",
        "        choice = int(choice)\n",
        "        if 1 <= choice <= len(options):\n",
        "            selected = options[choice - 1]\n",
        "            next_node = node[\"options\"][selected]\n",
        "            run_quiz(next_node)\n",
        "        else:\n",
        "            print(\"Invalid choice. Try again.\")\n",
        "            run_quiz(node)\n",
        "    except ValueError:\n",
        "        print(\"Please enter a number.\")\n",
        "        run_quiz(node)\n"
      ],
      "metadata": {
        "id": "5VXJnUFmyNuU"
      },
      "execution_count": 53,
      "outputs": []
    },
    {
      "cell_type": "code",
      "source": [
        "run_quiz(quiz_tree)\n"
      ],
      "metadata": {
        "colab": {
          "base_uri": "https://localhost:8080/"
        },
        "id": "-eyzYuqJyQEd",
        "outputId": "8c229bde-beb0-415f-c8cd-40ed01fc028a"
      },
      "execution_count": 55,
      "outputs": [
        {
          "output_type": "stream",
          "name": "stdout",
          "text": [
            "\n",
            "What are your interests?\n",
            "1. Engineering\n",
            "2. Medical\n",
            "3. Commerce\n",
            "4. Arts\n",
            "5. Architecture\n",
            "6. Other\n",
            "Enter the number of your choice: 3\n",
            "\n",
            "Which course in Commerce are you interested in?\n",
            "1. BBA\n",
            "2. Commerce\n",
            "Enter the number of your choice: 1\n",
            "\n",
            "Recommendation: Consider colleges offering BBA\n"
          ]
        }
      ]
    },
    {
      "cell_type": "code",
      "source": [
        "def categorize_course(course):\n",
        "    course = course.lower()\n",
        "    if any(x in course for x in [\"be\", \"bca\", \"mca\"]):\n",
        "        return \"Engineering\"\n",
        "    elif any(x in course for x in [\"mbbs\", \"b.sc nursing\", \"b.sc paramedical\", \"bams\", \"bds\"]):\n",
        "        return \"Medical\"\n",
        "    elif any(x in course for x in [\"b.com\", \"bba\", \"commerce\"]):\n",
        "        return \"Commerce\"\n",
        "    elif any(x in course for x in [\"ba\", \"arts\", \"b.sc\", \"science\", \"geography\", \"hons\"]):\n",
        "        return \"Arts\"\n",
        "    elif \"b.arch\" in course:\n",
        "        return \"Architecture\"\n",
        "    else:\n",
        "        return \"Other\"\n"
      ],
      "metadata": {
        "id": "gtpes3Fdy0XY"
      },
      "execution_count": 56,
      "outputs": []
    },
    {
      "cell_type": "code",
      "source": [
        "def colleges_for_course(course):\n",
        "    basic_col = \"Basic Course Offered\"\n",
        "    other_col = \"Other Courses run by the college with year of Estab.\"\n",
        "\n",
        "    # Case-insensitive search\n",
        "    mask = df[basic_col].astype(str).str.contains(course, case=False, na=False) | \\\n",
        "           df[other_col].astype(str).str.contains(course, case=False, na=False)\n",
        "\n",
        "    return df.loc[mask, \"Name of the College\"].dropna().unique().tolist()\n"
      ],
      "metadata": {
        "id": "wuuSD6Yry1dT"
      },
      "execution_count": 57,
      "outputs": []
    },
    {
      "cell_type": "code",
      "source": [
        "def personalized_quiz():\n",
        "    # Step 1: Ask interests\n",
        "    interests = [\"Engineering\", \"Medical\", \"Commerce\", \"Arts\", \"Architecture\", \"Other\"]\n",
        "    print(\"What are your interests?\")\n",
        "    for i, intr in enumerate(interests, 1):\n",
        "        print(f\"{i}. {intr}\")\n",
        "    choice = int(input(\"Enter the number of your choice: \"))\n",
        "    selected_interest = interests[choice-1]\n",
        "\n",
        "    # Step 2: Filter courses based on interest\n",
        "    all_courses = pd.Series(df[\"Basic Course Offered\"].dropna().tolist() + df[\"Other Courses run by the college with year of Estab.\"].dropna().tolist())\n",
        "\n",
        "    # Flatten, clean, split\n",
        "    import re\n",
        "    course_set = set()\n",
        "    for entry in all_courses:\n",
        "        courses = re.split(r'[,\\n()]', str(entry))\n",
        "        for c in courses:\n",
        "            c = c.strip()\n",
        "            if c and categorize_course(c) == selected_interest:\n",
        "                course_set.add(c)\n",
        "\n",
        "    course_list = sorted(course_set)\n",
        "\n",
        "    # Step 3: Ask which course\n",
        "    print(f\"\\nWhich course in {selected_interest} are you interested in?\")\n",
        "    for i, c in enumerate(course_list, 1):\n",
        "        print(f\"{i}. {c}\")\n",
        "    course_choice = int(input(\"Enter the number of your choice: \"))\n",
        "    selected_course = course_list[course_choice-1]\n",
        "\n",
        "    # Step 4: Show colleges\n",
        "    colleges = colleges_for_course(selected_course)\n",
        "    print(f\"\\nBased on your interest in {selected_course}, here are matching colleges:\\n\")\n",
        "    for col in colleges:\n",
        "        print(f\"- {col}\")\n"
      ],
      "metadata": {
        "id": "kNZW1yudy4ZL"
      },
      "execution_count": 58,
      "outputs": []
    },
    {
      "cell_type": "code",
      "source": [
        "personalized_quiz()\n"
      ],
      "metadata": {
        "colab": {
          "base_uri": "https://localhost:8080/"
        },
        "id": "4MYve05-y8XI",
        "outputId": "67c06d73-2a64-435f-9a10-f0bf6cc9f2b7"
      },
      "execution_count": 59,
      "outputs": [
        {
          "output_type": "stream",
          "name": "stdout",
          "text": [
            "What are your interests?\n",
            "1. Engineering\n",
            "2. Medical\n",
            "3. Commerce\n",
            "4. Arts\n",
            "5. Architecture\n",
            "6. Other\n",
            "Enter the number of your choice: 4\n",
            "\n",
            "Which course in Arts are you interested in?\n",
            "1. Arts\n",
            "2. B.Sc.\n",
            "3. B.Sc. Home Science\n",
            "4. B.Sc. Nursing\n",
            "5. B.Sc. Paramedical\n",
            "6. B.sc.\n",
            "7. Geography\n",
            "8. Hons.\n",
            "9. PG in Geography\n",
            "10. Science\n",
            "11. in Political Science\n",
            "Enter the number of your choice: 7\n",
            "\n",
            "Based on your interest in Geography, here are matching colleges:\n",
            "\n",
            "- Govt. Degree College, Kathua\n",
            "- Govt. Degree College, Rajouri\n"
          ]
        }
      ]
    }
  ]
}